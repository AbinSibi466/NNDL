{
  "nbformat": 4,
  "nbformat_minor": 0,
  "metadata": {
    "colab": {
      "provenance": [],
      "authorship_tag": "ABX9TyMz5sZzxMk+fSDWKGkLSznI",
      "include_colab_link": true
    },
    "kernelspec": {
      "name": "python3",
      "display_name": "Python 3"
    },
    "language_info": {
      "name": "python"
    }
  },
  "cells": [
    {
      "cell_type": "markdown",
      "metadata": {
        "id": "view-in-github",
        "colab_type": "text"
      },
      "source": [
        "<a href=\"https://colab.research.google.com/github/AbinSibi466/NNDL/blob/main/23472202_Lab7.ipynb\" target=\"_parent\"><img src=\"https://colab.research.google.com/assets/colab-badge.svg\" alt=\"Open In Colab\"/></a>"
      ]
    },
    {
      "cell_type": "code",
      "source": [
        "import pandas as pd\n",
        "import numpy as np\n",
        "import re\n"
      ],
      "metadata": {
        "id": "-nYrANDOU8kq"
      },
      "execution_count": 2,
      "outputs": []
    },
    {
      "cell_type": "code",
      "execution_count": 4,
      "metadata": {
        "id": "UunOYVAMUoE0"
      },
      "outputs": [],
      "source": [
        "# Step 1: Dataset Preparation\n",
        "# Load the data\n",
        "file_path = '/content/PoetryFoundationData.csv'  # Replace with your file path\n",
        "data = pd.read_csv(file_path)\n",
        "\n",
        "# Concatenate all poems into a single text corpus\n",
        "poems = data['Poem'].astype(str).tolist()\n",
        "corpus = \"\\n\".join(poems)\n"
      ]
    },
    {
      "cell_type": "code",
      "source": [
        "print(data.head())  # View the first few rows\n",
        "print(data.columns) # Check column names\n",
        "print(data.info()) # Summary of data types and missing values\n",
        "print(f\"Number of poems in the dataset: {len(poems)}\") # Number of poems\n",
        "\n",
        "# Example:  Print the first 2 poems to inspect the data\n",
        "for i in range(min(2, len(poems))): # Print only if poems exist\n",
        "    print(f\"--- Poem {i+1} ---\\n{poems[i]}\\n\")\n",
        "\n",
        "\n",
        "# Cleaning the corpus (Example: Remove non-alphanumeric characters)\n",
        "# This is crucial for better model performance.\n",
        "def clean_text(text):\n",
        "    text = re.sub(r'[^a-zA-Z0-9\\s]', '', text)  # Remove special characters\n",
        "    text = re.sub(r'\\s+', ' ', text).strip() # Remove extra whitespace\n",
        "    return text\n",
        "\n",
        "\n",
        "corpus = clean_text(corpus) # Clean the entire corpus\n",
        "\n"
      ],
      "metadata": {
        "colab": {
          "base_uri": "https://localhost:8080/"
        },
        "id": "NogMh8NEVItN",
        "outputId": "e1407490-b4c3-4173-d0ae-ddda77d43655"
      },
      "execution_count": 5,
      "outputs": [
        {
          "output_type": "stream",
          "name": "stdout",
          "text": [
            "   Unnamed: 0                                              Title  \\\n",
            "0           0  \\r\\r\\n                    Objects Used to Prop...   \n",
            "1           1  \\r\\r\\n                    The New Church\\r\\r\\n...   \n",
            "2           2  \\r\\r\\n                    Look for Me\\r\\r\\n   ...   \n",
            "3           3  \\r\\r\\n                    Wild Life\\r\\r\\n     ...   \n",
            "4           4  \\r\\r\\n                    Umbrella\\r\\r\\n      ...   \n",
            "\n",
            "                                                Poem              Poet Tags  \n",
            "0  \\r\\r\\nDog bone, stapler,\\r\\r\\ncribbage board, ...  Michelle Menting  NaN  \n",
            "1  \\r\\r\\nThe old cupola glinted above the clouds,...     Lucia Cherciu  NaN  \n",
            "2  \\r\\r\\nLook for me under the hood\\r\\r\\nof that ...        Ted Kooser  NaN  \n",
            "3  \\r\\r\\nBehind the silo, the Mother Rabbit\\r\\r\\n...   Grace Cavalieri  NaN  \n",
            "4  \\r\\r\\nWhen I push your button\\r\\r\\nyou fly off...      Connie Wanek  NaN  \n",
            "Index(['Unnamed: 0', 'Title', 'Poem', 'Poet', 'Tags'], dtype='object')\n",
            "<class 'pandas.core.frame.DataFrame'>\n",
            "RangeIndex: 13854 entries, 0 to 13853\n",
            "Data columns (total 5 columns):\n",
            " #   Column      Non-Null Count  Dtype \n",
            "---  ------      --------------  ----- \n",
            " 0   Unnamed: 0  13854 non-null  int64 \n",
            " 1   Title       13854 non-null  object\n",
            " 2   Poem        13854 non-null  object\n",
            " 3   Poet        13854 non-null  object\n",
            " 4   Tags        12899 non-null  object\n",
            "dtypes: int64(1), object(4)\n",
            "memory usage: 541.3+ KB\n",
            "None\n",
            "Number of poems in the dataset: 13854\n",
            "--- Poem 1 ---\n",
            "\r\r\n",
            "Dog bone, stapler,\r\r\n",
            "cribbage board, garlic press\r\r\n",
            "     because this window is loose—lacks\r\r\n",
            "suction, lacks grip.\r\r\n",
            "Bungee cord, bootstrap,\r\r\n",
            "dog leash, leather belt\r\r\n",
            "     because this window had sash cords.\r\r\n",
            "They frayed. They broke.\r\r\n",
            "Feather duster, thatch of straw, empty\r\r\n",
            "bottle of Elmer's glue\r\r\n",
            "     because this window is loud—its hinges clack\r\r\n",
            "open, clack shut.\r\r\n",
            "Stuffed bear, baby blanket,\r\r\n",
            "single crib newel\r\r\n",
            "     because this window is split. It's dividing\r\r\n",
            "in two.\r\r\n",
            "Velvet moss, sagebrush,\r\r\n",
            "willow branch, robin's wing\r\r\n",
            "     because this window, it's pane-less. It's only\r\r\n",
            "a frame of air.\r\r\n",
            "\n",
            "\n",
            "--- Poem 2 ---\n",
            "\r\r\n",
            "The old cupola glinted above the clouds, shone\r\r\n",
            "among fir trees, but it took him an hour\r\r\n",
            "for the half mile all the way up the hill. As he trailed,\r\r\n",
            "the village passed him by, greeted him,\r\r\n",
            "asked about his health, but everybody hurried\r\r\n",
            "to catch the mass, left him leaning against fences,\r\r\n",
            "measuring the road with the walking stick he sculpted.\r\r\n",
            "He yearned for the day when the new church\r\r\n",
            "would be built—right across the road. Now\r\r\n",
            "it rises above the moon: saints in frescoes\r\r\n",
            "meet the eye, and only the rain has started to cut\r\r\n",
            "through the shingles on the roof of his empty\r\r\n",
            "house. The apple trees have taken over the sky,\r\r\n",
            "sequestered the gate, sidled over the porch.\r\r\n",
            "\n",
            "\n"
          ]
        }
      ]
    },
    {
      "cell_type": "code",
      "source": [],
      "metadata": {
        "id": "QbEAUUjnVLcp"
      },
      "execution_count": null,
      "outputs": []
    }
  ]
}