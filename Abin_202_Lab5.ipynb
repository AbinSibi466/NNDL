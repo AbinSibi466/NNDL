{
  "nbformat": 4,
  "nbformat_minor": 0,
  "metadata": {
    "colab": {
      "provenance": [],
      "authorship_tag": "ABX9TyOOebK0kqdCrVm0TRmGYIut",
      "include_colab_link": true
    },
    "kernelspec": {
      "name": "python3",
      "display_name": "Python 3"
    },
    "language_info": {
      "name": "python"
    }
  },
  "cells": [
    {
      "cell_type": "markdown",
      "metadata": {
        "id": "view-in-github",
        "colab_type": "text"
      },
      "source": [
        "<a href=\"https://colab.research.google.com/github/AbinSibi466/NNDL/blob/main/Abin_202_Lab5.ipynb\" target=\"_parent\"><img src=\"https://colab.research.google.com/assets/colab-badge.svg\" alt=\"Open In Colab\"/></a>"
      ]
    },
    {
      "cell_type": "code",
      "execution_count": null,
      "metadata": {
        "id": "K5OgnMhaQ3vy"
      },
      "outputs": [],
      "source": [
        "afdadfadfsadfdsafa"
      ]
    },
    {
      "cell_type": "code",
      "source": [],
      "metadata": {
        "id": "-P6d3xreR2RG"
      },
      "execution_count": null,
      "outputs": []
    }
  ]
}